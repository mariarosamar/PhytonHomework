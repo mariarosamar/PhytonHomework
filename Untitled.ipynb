{
 "cells": [
  {
   "cell_type": "code",
   "execution_count": 1,
   "metadata": {},
   "outputs": [],
   "source": [
    "# Import the pathlib and csv library\n",
    "from pathlib import Path\n",
    "import csv"
   ]
  },
  {
   "cell_type": "code",
   "execution_count": 2,
   "metadata": {},
   "outputs": [],
   "source": [
    "# Set the file path\n",
    "csvpath = Path('budget_data.csv')"
   ]
  },
  {
   "cell_type": "code",
   "execution_count": 3,
   "metadata": {},
   "outputs": [],
   "source": [
    "# Initialize variables to hold profit_losses\n",
    "profit_losses = []"
   ]
  },
  {
   "cell_type": "code",
   "execution_count": 4,
   "metadata": {},
   "outputs": [],
   "source": [
    "# Initialize count_lines variable\n",
    "count_lines = 0"
   ]
  },
  {
   "cell_type": "code",
   "execution_count": 5,
   "metadata": {},
   "outputs": [
    {
     "name": "stdout",
     "output_type": "stream",
     "text": [
      "<class '_io.TextIOWrapper'>\n",
      "<class '_csv.reader'>\n",
      "['Date', 'Profit/Losses']   <----- THIS IS HEADER\n",
      " Total Months :     86\n",
      " Total :    $ 38382578.0\n",
      "  Average Change :  $ -2315.12\n",
      " Date Increase :  Feb-2017\n",
      " Greatest Increase : $ 1926159.0\n",
      " Date_Decrease : Feb-2017\n",
      "  Greatest_decrease : $ -2196167.0\n",
      " first_profit_loss: 867884.0\n",
      " last_profit_loss: 671099.0\n"
     ]
    }
   ],
   "source": [
    "# open the input path as a file object\n",
    "with open(csvpath, 'r') as csvfile:\n",
    "    print(type(csvfile))\n",
    "    # Pass in the csv file to the csv.reader() function\n",
    "    # (with ',' as the delmiter/separator) \n",
    "    csvreader = csv.reader(csvfile, delimiter=',')\n",
    "    # Print the datatype of the csvreader\n",
    "    print(type(csvreader)) \n",
    "    # Go to after the header 'after first row' \n",
    "    header = next(csvreader)\n",
    "    \n",
    "    # Print the header\n",
    "    print(f\"{header}   <----- THIS IS HEADER\")\n",
    "    # Read each row after the header\n",
    "    for row in csvreader:\n",
    "        # Set Profit/Losses equal to value to the List of profit_losses\n",
    "        profit_loss = float(row[1])\n",
    "        profit_losses.append(profit_loss)\n",
    "        date = row[0]\n",
    "        \n",
    "# Initialize variables \n",
    "Total_profit_losses = 0\n",
    "avg_change = 0\n",
    "greatest_increase = 0\n",
    "date_increase = []\n",
    "greatest_decrease = 0\n",
    "date_decrease = []\n",
    "profit_loss_compare = 0\n",
    "first_profit_loss = 0\n",
    "last_profit_loss = 0\n",
    "difference = 0\n",
    "\n",
    "# Calculate the net Total_profit_losses, and average of profit_losses over the entire period: \n",
    "#  average of changes = Profit_loss last month - Profit_loss first month/number of changes)  \n",
    "for profit_loss in profit_losses:\n",
    "   \n",
    "    Total_profit_losses += profit_loss\n",
    "    count_lines += 1\n",
    "    if count_lines == 1:\n",
    "        first_profit_loss = profit_loss\n",
    "        profit_loss_compare = profit_loss\n",
    "    elif count_lines == 2:\n",
    "        difference = profit_loss - profit_loss_compare\n",
    "        profit_loss_compare = profit_loss\n",
    "        if difference == 0:\n",
    "            greatest_increase = difference\n",
    "            date_increase = date\n",
    "            greatest_decrease = difference\n",
    "            date_decrease = date\n",
    "        elif difference > 0:\n",
    "            greatest_increase = difference\n",
    "            date_increase = date\n",
    "        elif difference < 0:\n",
    "            greatest_decrease = difference\n",
    "            date_decrease = date\n",
    "    elif count_lines > 2:\n",
    "        difference = profit_loss - profit_loss_compare\n",
    "        profit_loss_compare = profit_loss\n",
    "        if difference > greatest_increase:\n",
    "            greatest_increase = difference\n",
    "            date_increase = date\n",
    "        elif difference < greatest_decrease:\n",
    "            greatest_decrease = difference\n",
    "            date_decrease = date\n",
    "            \n",
    "last_profit_loss = profit_losses[85]        \n",
    "change = last_profit_loss - first_profit_loss    \n",
    "avg_change = round (change/ (count_lines - 1), 2) \n",
    "\n",
    "# Print financial analysis, to test the scripts\n",
    "print (f\" Total Months :     {count_lines}\")\n",
    "print (f\" Total :    $ {Total_profit_losses}\")\n",
    "print (f\"  Average Change :  $ {avg_change}\")\n",
    "print (f\" Date Increase :  {date_increase}\")\n",
    "print (f\" Greatest Increase : $ {greatest_increase}\")\n",
    "print (f\" Date_Decrease : {date_decrease}\")\n",
    "print(f\"  Greatest_decrease : $ {greatest_decrease}\")\n",
    "print(f\" first_profit_loss: {first_profit_loss}\")\n",
    "print(f\" last_profit_loss: {last_profit_loss}\")\n",
    "\n",
    "# Set the output header\n",
    "header = [\"Total Months\", \"Total\", \"Average Change\", \"Date_Increase\", \"Greatest_Increase\", \"Date_Decrease\", \"Greatest_Decrease\"]\n",
    "metrics = [count_lines, Total_profit_losses, avg_change, date_increase, greatest_increase, date_decrease, greatest_decrease]\n",
    "\n",
    "#Set the output file path\n",
    "output_path = Path ('output.csv')\n",
    "\n",
    "# Open the output path as a file object\n",
    "with open(output_path, 'w') as csvfile:\n",
    "    # Set the file object as a csvwriter object\n",
    "    csvwriter = csv.writer(csvfile)\n",
    "    csvwriter.writerow(header)\n",
    "    #Write the list of metrics or results to the output file\n",
    "    csvwriter.writerow(metrics)\n",
    "\n",
    "\n",
    "    \n",
    "    "
   ]
  },
  {
   "cell_type": "code",
   "execution_count": null,
   "metadata": {},
   "outputs": [],
   "source": []
  },
  {
   "cell_type": "code",
   "execution_count": null,
   "metadata": {},
   "outputs": [],
   "source": []
  },
  {
   "cell_type": "code",
   "execution_count": null,
   "metadata": {},
   "outputs": [],
   "source": []
  }
 ],
 "metadata": {
  "kernelspec": {
   "display_name": "Python 3",
   "language": "python",
   "name": "python3"
  },
  "language_info": {
   "codemirror_mode": {
    "name": "ipython",
    "version": 3
   },
   "file_extension": ".py",
   "mimetype": "text/x-python",
   "name": "python",
   "nbconvert_exporter": "python",
   "pygments_lexer": "ipython3",
   "version": "3.7.3"
  }
 },
 "nbformat": 4,
 "nbformat_minor": 4
}
